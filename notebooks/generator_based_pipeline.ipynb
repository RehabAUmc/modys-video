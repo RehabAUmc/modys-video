{
 "cells": [
  {
   "cell_type": "markdown",
   "id": "aboriginal-teddy",
   "metadata": {},
   "source": [
    "# Illustrate generator based pipeline"
   ]
  },
  {
   "cell_type": "code",
   "execution_count": 1,
   "id": "8dd5b12b-f1f8-479d-b284-4680a67cdf12",
   "metadata": {},
   "outputs": [
    {
     "name": "stdout",
     "output_type": "stream",
     "text": [
      "/Users/svenvanderburg/projects/modys-video\n"
     ]
    }
   ],
   "source": [
    "cd .."
   ]
  },
  {
   "cell_type": "code",
   "execution_count": 2,
   "id": "hourly-james",
   "metadata": {},
   "outputs": [],
   "source": [
    "import numpy as np\n",
    "import tensorflow.keras as keras\n",
    "\n",
    "from src.helpers import read_scores\n",
    "from src.data_generators import RawDataGenerator\n",
    "from src.data_selection import MultipleScoreSelector\n",
    "from src.ai_func import cross_validation_generator"
   ]
  },
  {
   "cell_type": "markdown",
   "id": "spare-granny",
   "metadata": {},
   "source": [
    "### Read metadata"
   ]
  },
  {
   "cell_type": "code",
   "execution_count": 4,
   "id": "920dcb34-a210-473a-8f45-289872be4294",
   "metadata": {},
   "outputs": [],
   "source": [
    "scores_df = read_scores()"
   ]
  },
  {
   "cell_type": "markdown",
   "id": "resident-understanding",
   "metadata": {},
   "source": [
    "## Pipeline for training a deep neural network"
   ]
  },
  {
   "cell_type": "markdown",
   "id": "precise-devil",
   "metadata": {},
   "source": [
    "### Define model architecture (here: simple CNN)"
   ]
  },
  {
   "cell_type": "code",
   "execution_count": 8,
   "id": "049d7a8e-8bfc-4b94-99b4-ef161a5c8041",
   "metadata": {},
   "outputs": [
    {
     "name": "stderr",
     "output_type": "stream",
     "text": [
      "/Users/svenvanderburg/projects/modys-video/src/data_selection.py:24: UserWarning: Dropping rows ['096'] with missing video\n",
      "  warnings.warn(f'Dropping rows {missing_ids} with missing video')\n",
      "/Users/svenvanderburg/projects/modys-video/src/data_selection.py:34: UserWarning: Dropping rows ['090' '058' '048'] with missing score\n",
      "  warnings.warn(f'Dropping rows {only_na.index.values} with missing score')\n"
     ]
    }
   ],
   "source": [
    "# Generate some dev data to get X shape\n",
    "selector = MultipleScoreSelector(scores_to_use=['D_LLP_R_tA_pscore'], scorer_to_use=1)\n",
    "dev_selection = selector.transform(scores_df)\n",
    "dev_generator = RawDataGenerator(dev_selection, videos_folder=path_data)\n",
    "X, y = dev_generator.__getitem__(0)\n",
    "n_timesteps, n_features = (X.shape[1], X.shape[2])"
   ]
  },
  {
   "cell_type": "code",
   "execution_count": 9,
   "id": "naughty-johnston",
   "metadata": {},
   "outputs": [
    {
     "name": "stdout",
     "output_type": "stream",
     "text": [
      "Model: \"model\"\n",
      "_________________________________________________________________\n",
      "Layer (type)                 Output Shape              Param #   \n",
      "=================================================================\n",
      "input_1 (InputLayer)         [(None, 501, 42)]         0         \n",
      "_________________________________________________________________\n",
      "conv1d (Conv1D)              (None, 499, 32)           4064      \n",
      "_________________________________________________________________\n",
      "conv1d_1 (Conv1D)            (None, 497, 32)           3104      \n",
      "_________________________________________________________________\n",
      "max_pooling1d (MaxPooling1D) (None, 248, 32)           0         \n",
      "_________________________________________________________________\n",
      "conv1d_2 (Conv1D)            (None, 246, 64)           6208      \n",
      "_________________________________________________________________\n",
      "conv1d_3 (Conv1D)            (None, 244, 64)           12352     \n",
      "_________________________________________________________________\n",
      "max_pooling1d_1 (MaxPooling1 (None, 122, 64)           0         \n",
      "_________________________________________________________________\n",
      "flatten (Flatten)            (None, 7808)              0         \n",
      "_________________________________________________________________\n",
      "dense (Dense)                (None, 100)               780900    \n",
      "_________________________________________________________________\n",
      "dense_1 (Dense)              (None, 1)                 101       \n",
      "=================================================================\n",
      "Total params: 806,729\n",
      "Trainable params: 806,729\n",
      "Non-trainable params: 0\n",
      "_________________________________________________________________\n"
     ]
    },
    {
     "name": "stderr",
     "output_type": "stream",
     "text": [
      "2021-11-02 10:29:45.336552: I tensorflow/core/platform/cpu_feature_guard.cc:142] This TensorFlow binary is optimized with oneAPI Deep Neural Network Library (oneDNN) to use the following CPU instructions in performance-critical operations:  AVX2 FMA\n",
      "To enable them in other operations, rebuild TensorFlow with the appropriate compiler flags.\n"
     ]
    }
   ],
   "source": [
    "n_outputs = 1\n",
    "\n",
    "# simple CNN\n",
    "input_layer = keras.layers.Input(shape=(n_timesteps,n_features))\n",
    "cnn_layer = keras.layers.Conv1D(filters=32, kernel_size=3, activation='relu')(input_layer)\n",
    "cnn_layer = keras.layers.Conv1D(filters=32, kernel_size=3, activation='relu')(cnn_layer)\n",
    "cnn_layer = keras.layers.MaxPooling1D(pool_size=2)(cnn_layer)\n",
    "cnn_layer = keras.layers.Conv1D(filters=64, kernel_size=3, activation='relu')(cnn_layer)\n",
    "cnn_layer = keras.layers.Conv1D(filters=64, kernel_size=3, activation='relu')(cnn_layer)\n",
    "cnn_layer = keras.layers.MaxPooling1D(pool_size=2)(cnn_layer)\n",
    "cnn_layer = keras.layers.Flatten()(cnn_layer)\n",
    "cnn_layer = keras.layers.Dense(100)(cnn_layer)\n",
    "output_layer = keras.layers.Dense(n_outputs)(cnn_layer)\n",
    "\n",
    "model = keras.Model(inputs=input_layer, outputs=output_layer)\n",
    "model.summary()"
   ]
  },
  {
   "cell_type": "code",
   "execution_count": 10,
   "id": "00afe9dd-e58b-4e0a-967e-f3144d7138c9",
   "metadata": {},
   "outputs": [],
   "source": [
    "model.compile(loss='mse', optimizer=keras.optimizers.Adam())"
   ]
  },
  {
   "cell_type": "markdown",
   "id": "prescribed-daniel",
   "metadata": {
    "tags": []
   },
   "source": [
    "### Data selection + generation"
   ]
  },
  {
   "cell_type": "code",
   "execution_count": 11,
   "id": "sapphire-imagination",
   "metadata": {},
   "outputs": [],
   "source": [
    "selector = MultipleScoreSelector(scores_to_use=['D_LLP_R_tA_pscore'], scorer_to_use=1)\n",
    "selected_data = selector.transform(scores_df)\n",
    "cross_val = cross_validation_generator(selected_data)\n"
   ]
  },
  {
   "cell_type": "markdown",
   "id": "b9eda459-1461-4685-85bb-cda2ab8d38e1",
   "metadata": {
    "tags": []
   },
   "source": [
    "## Train network"
   ]
  },
  {
   "cell_type": "code",
   "execution_count": 12,
   "id": "028d327f-55d0-41d4-8bf2-d425bd41930a",
   "metadata": {},
   "outputs": [],
   "source": [
    "def train_network(train_generator, val_generator):\n",
    "    model.fit(train_generator, epochs=2, validation_data=val_generator)"
   ]
  },
  {
   "cell_type": "markdown",
   "id": "b0ca0615-0569-4da3-a02c-33e4f32f7677",
   "metadata": {},
   "source": [
    "### "
   ]
  },
  {
   "cell_type": "code",
   "execution_count": 14,
   "id": "foreign-rebate",
   "metadata": {},
   "outputs": [
    {
     "name": "stdout",
     "output_type": "stream",
     "text": [
      "Fitting for 5-fold split 0\n",
      "Epoch 1/2\n",
      "50/50 [==============================] - 5s 102ms/step - loss: nan - val_loss: nan\n",
      "Epoch 2/2\n",
      "50/50 [==============================] - 5s 96ms/step - loss: nan - val_loss: nan\n",
      "Fitting for 5-fold split 1\n",
      "Epoch 1/2\n",
      "50/50 [==============================] - 5s 103ms/step - loss: nan - val_loss: nan\n",
      "Epoch 2/2\n",
      "50/50 [==============================] - 5s 103ms/step - loss: nan - val_loss: nan\n"
     ]
    }
   ],
   "source": [
    "for i_split, (train_scores, test_scores) in enumerate(cross_val):\n",
    "    print(f'Fitting for 5-fold split {i_split}')\n",
    "    train_generator = RawDataGenerator(train_scores, videos_folder=path_data)\n",
    "    # We use testset for validation here just for demo purposes\n",
    "    val_generator = RawDataGenerator(test_scores, videos_folder=path_data)\n",
    "    train_network(train_generator, val_generator)"
   ]
  },
  {
   "cell_type": "code",
   "execution_count": null,
   "id": "202ec61d-a8a3-48f8-81c5-719e960e1fe1",
   "metadata": {},
   "outputs": [],
   "source": []
  }
 ],
 "metadata": {
  "kernelspec": {
   "display_name": "Python 3 (ipykernel)",
   "language": "python",
   "name": "python3"
  },
  "language_info": {
   "codemirror_mode": {
    "name": "ipython",
    "version": 3
   },
   "file_extension": ".py",
   "mimetype": "text/x-python",
   "name": "python",
   "nbconvert_exporter": "python",
   "pygments_lexer": "ipython3",
   "version": "3.8.11"
  }
 },
 "nbformat": 4,
 "nbformat_minor": 5
}
