{
 "cells": [
  {
   "cell_type": "markdown",
   "metadata": {},
   "source": [
    "# Visualisation of Experiment 2 Results"
   ]
  },
  {
   "cell_type": "code",
   "execution_count": 1,
   "metadata": {},
   "outputs": [
    {
     "name": "stdout",
     "output_type": "stream",
     "text": [
      "C:\\Users\\Helga\\Documents\\Work\\modys-video\n"
     ]
    }
   ],
   "source": [
    "cd C:\\Users\\Helga\\Documents\\Work\\modys-video"
   ]
  },
  {
   "cell_type": "code",
   "execution_count": 2,
   "metadata": {},
   "outputs": [],
   "source": [
    "import pandas as pd\n",
    "import numpy as np\n",
    "import seaborn as sns\n",
    "import matplotlib.pylab as plt\n",
    "\n",
    "from matplotlib import rcParams\n",
    "from src.helpers import read_scores\n",
    "\n",
    "from sklearn.metrics import confusion_matrix\n"
   ]
  },
  {
   "cell_type": "markdown",
   "metadata": {},
   "source": [
    "## Read results"
   ]
  },
  {
   "cell_type": "code",
   "execution_count": 3,
   "metadata": {},
   "outputs": [],
   "source": [
    "df = pd.read_excel('results/experiment-2-results.xlsx')"
   ]
  },
  {
   "cell_type": "code",
   "execution_count": 4,
   "metadata": {},
   "outputs": [],
   "source": [
    "df_scores = pd.read_excel('data/data_clinical_scoring.xlsx')\n",
    "df_scores = df_scores.replace(999, np.nan)"
   ]
  },
  {
   "cell_type": "code",
   "execution_count": 5,
   "metadata": {},
   "outputs": [],
   "source": [
    "df_scores = read_scores()"
   ]
  },
  {
   "cell_type": "markdown",
   "metadata": {},
   "source": [
    "# Reshape and combine input data"
   ]
  },
  {
   "cell_type": "code",
   "execution_count": 6,
   "metadata": {},
   "outputs": [],
   "source": [
    "df_scores['idx'] = df_scores.groupby('video').cumcount()\n",
    "df_scores['D_LLP_R_tA_pscore_idx'] = 'D_LLP_R_tA_pscore_' + df_scores.scorer.astype(str)\n",
    "df_scores['D_RLP_R_tA_pscore_idx'] = 'D_RLP_R_tA_pscore_' + df_scores.scorer.astype(str)\n",
    "df_scores['D_LLP_R_tD_pscore_idx'] = 'D_LLP_R_tD_pscore_' + df_scores.scorer.astype(str)\n",
    "df_scores['D_RLP_R_tD_pscore_idx'] = 'D_RLP_R_tD_pscore_' + df_scores.scorer.astype(str)\n",
    "df_scores['D_LAP_R_tA_pscore_idx'] = 'D_LAP_R_tA_pscore_' + df_scores.scorer.astype(str)\n",
    "df_scores['D_RAP_R_tA_pscore_idx'] = 'D_RAP_R_tA_pscore_' + df_scores.scorer.astype(str)\n",
    "df_scores['D_LAP_R_tD_pscore_idx'] = 'D_LAP_R_tD_pscore_' + df_scores.scorer.astype(str)\n",
    "df_scores['D_RAP_R_tD_pscore_idx'] = 'D_RAP_R_tD_pscore_' + df_scores.scorer.astype(str)\n",
    "D_LLP_R_tA_pscore = df_scores.pivot(index='video',columns='D_LLP_R_tA_pscore_idx',values='D_LLP_R_tA_pscore')\n",
    "D_RLP_R_tA_pscore = df_scores.pivot(index='video',columns='D_RLP_R_tA_pscore_idx',values='D_RLP_R_tA_pscore')\n",
    "D_LLP_R_tD_pscore = df_scores.pivot(index='video',columns='D_LLP_R_tD_pscore_idx',values='D_LLP_R_tD_pscore')\n",
    "D_RLP_R_tD_pscore = df_scores.pivot(index='video',columns='D_RLP_R_tD_pscore_idx',values='D_RLP_R_tD_pscore')\n",
    "D_LAP_R_tA_pscore = df_scores.pivot(index='video',columns='D_LAP_R_tA_pscore_idx',values='D_LAP_R_tA_pscore')\n",
    "D_RAP_R_tA_pscore = df_scores.pivot(index='video',columns='D_RAP_R_tA_pscore_idx',values='D_RAP_R_tA_pscore')\n",
    "D_LAP_R_tD_pscore = df_scores.pivot(index='video',columns='D_LAP_R_tD_pscore_idx',values='D_LAP_R_tD_pscore')\n",
    "D_RAP_R_tD_pscore = df_scores.pivot(index='video',columns='D_RAP_R_tD_pscore_idx',values='D_RAP_R_tD_pscore')\n",
    "df_scores_reshape = pd.concat([D_LLP_R_tA_pscore,D_RLP_R_tA_pscore, D_LLP_R_tD_pscore,D_RLP_R_tD_pscore, D_LAP_R_tA_pscore,D_RAP_R_tA_pscore, D_LAP_R_tD_pscore,D_RAP_R_tD_pscore],axis=1)\n",
    "\n",
    "\n",
    "D_LP_R_tA_pscore_1 = df_scores_reshape['D_RLP_R_tA_pscore_1'].append(df_scores_reshape['D_LLP_R_tA_pscore_1']).reset_index(drop=True)\n",
    "D_LP_R_tA_pscore_2 = df_scores_reshape['D_RLP_R_tA_pscore_2'].append(df_scores_reshape['D_LLP_R_tA_pscore_2']).reset_index(drop=True)\n",
    "D_LP_R_tA_pscore_3 = df_scores_reshape['D_RLP_R_tA_pscore_3'].append(df_scores_reshape['D_LLP_R_tA_pscore_3']).reset_index(drop=True)\n",
    "\n",
    "D_LP_R_tD_pscore_1 = df_scores_reshape['D_RLP_R_tD_pscore_1'].append(df_scores_reshape['D_LLP_R_tD_pscore_1']).reset_index(drop=True)\n",
    "D_LP_R_tD_pscore_2 = df_scores_reshape['D_RLP_R_tD_pscore_2'].append(df_scores_reshape['D_LLP_R_tD_pscore_2']).reset_index(drop=True)\n",
    "D_LP_R_tD_pscore_3 = df_scores_reshape['D_RLP_R_tD_pscore_3'].append(df_scores_reshape['D_LLP_R_tD_pscore_3']).reset_index(drop=True)\n",
    "\n",
    "D_AP_R_tA_pscore_1 = df_scores_reshape['D_RAP_R_tA_pscore_1'].append(df_scores_reshape['D_LAP_R_tA_pscore_1']).reset_index(drop=True)\n",
    "D_AP_R_tA_pscore_2 = df_scores_reshape['D_RAP_R_tA_pscore_2'].append(df_scores_reshape['D_LAP_R_tA_pscore_2']).reset_index(drop=True)\n",
    "D_AP_R_tA_pscore_3 = df_scores_reshape['D_RAP_R_tA_pscore_3'].append(df_scores_reshape['D_LAP_R_tA_pscore_3']).reset_index(drop=True)\n",
    "\n",
    "D_AP_R_tD_pscore_1 = df_scores_reshape['D_RAP_R_tD_pscore_1'].append(df_scores_reshape['D_LAP_R_tD_pscore_1']).reset_index(drop=True)\n",
    "D_AP_R_tD_pscore_2 = df_scores_reshape['D_RAP_R_tD_pscore_2'].append(df_scores_reshape['D_LAP_R_tD_pscore_2']).reset_index(drop=True)\n",
    "D_AP_R_tD_pscore_3 = df_scores_reshape['D_RAP_R_tD_pscore_3'].append(df_scores_reshape['D_LAP_R_tD_pscore_3']).reset_index(drop=True)\n",
    "\n",
    "\n",
    "df_rs_combined = pd.DataFrame ({'D_LP_R_tA_pscore_1':D_LP_R_tA_pscore_1,'D_LP_R_tA_pscore_2':D_LP_R_tA_pscore_2,\n",
    "                             'D_LP_R_tA_pscore_3':D_LP_R_tA_pscore_3,'D_LP_R_tD_pscore_1':D_LP_R_tD_pscore_1,\n",
    "                             'D_LP_R_tD_pscore_2':D_LP_R_tD_pscore_2,'D_LP_R_tD_pscore_3':D_LP_R_tD_pscore_3,\n",
    "                            'D_AP_R_tA_pscore_1':D_AP_R_tA_pscore_1,'D_AP_R_tA_pscore_2':D_AP_R_tA_pscore_2,\n",
    "                             'D_AP_R_tA_pscore_3':D_AP_R_tA_pscore_3,'D_AP_R_tD_pscore_1':D_AP_R_tD_pscore_1,\n",
    "                             'D_AP_R_tD_pscore_2':D_AP_R_tD_pscore_2,'D_AP_R_tD_pscore_3':D_AP_R_tD_pscore_3})"
   ]
  },
  {
   "cell_type": "markdown",
   "metadata": {},
   "source": [
    "### Subselection Dystonia leg amplitude - Rater 1"
   ]
  },
  {
   "cell_type": "code",
   "execution_count": 7,
   "metadata": {},
   "outputs": [],
   "source": [
    "scores_select = ['D_LLP_R_tA_pscore, D_RLP_R_tA_pscore'] #select here leg of arm\n",
    "scorer_select = [1] #set here op scorer if you want to select one\n",
    "df_sub = df[df.scores.isin(scores_select) & df.scorer.isin(scorer_select)]"
   ]
  },
  {
   "cell_type": "code",
   "execution_count": 8,
   "metadata": {},
   "outputs": [
    {
     "data": {
      "text/plain": [
       "0.14052419354838713"
      ]
     },
     "execution_count": 8,
     "metadata": {},
     "output_type": "execute_result"
    }
   ],
   "source": [
    "# Mean Absolute Error (MAE)\n",
    "df_sub.apply(lambda x: abs(x['y'] - x['pred_y']) , axis=1).mean()"
   ]
  },
  {
   "cell_type": "code",
   "execution_count": 9,
   "metadata": {},
   "outputs": [
    {
     "data": {
      "text/plain": [
       "0.10386791672773939"
      ]
     },
     "execution_count": 9,
     "metadata": {},
     "output_type": "execute_result"
    }
   ],
   "source": [
    "# Standard deviation MAE\n",
    "df_sub.apply(lambda x: abs(x['y'] - x['pred_y']) , axis=1).std()"
   ]
  },
  {
   "cell_type": "code",
   "execution_count": 10,
   "metadata": {
    "scrolled": true
   },
   "outputs": [
    {
     "data": {
      "text/plain": [
       "0.7051843727825736"
      ]
     },
     "execution_count": 10,
     "metadata": {},
     "output_type": "execute_result"
    }
   ],
   "source": [
    "# Correlation y and y-predict\n",
    "df_sub['y'].corr(df_sub['pred_y'])"
   ]
  },
  {
   "cell_type": "markdown",
   "metadata": {},
   "source": [
    "# Test graphs"
   ]
  },
  {
   "cell_type": "code",
   "execution_count": 11,
   "metadata": {},
   "outputs": [
    {
     "data": {
      "text/plain": [
       "0.14052419354838713"
      ]
     },
     "execution_count": 11,
     "metadata": {},
     "output_type": "execute_result"
    }
   ],
   "source": [
    "# Mean Absolute Error\n",
    "df_sub.apply(lambda x: abs(x['y'] - x['pred_y']) , axis=1).mean()"
   ]
  },
  {
   "cell_type": "code",
   "execution_count": 12,
   "metadata": {},
   "outputs": [
    {
     "data": {
      "image/png": "[encoded data removed]",
      "text/plain": [
       "<Figure size 402.375x360 with 1 Axes>"
      ]
     },
     "metadata": {
      "needs_background": "light"
     },
     "output_type": "display_data"
    }
   ],
   "source": [
    "# Scatterplot y and y-predict\n",
    "plt.rcParams['figure.figsize']=5,5\n",
    "g = sns.lmplot(x=\"y\", y=\"pred_y\", hue=\"scorer\", data=df_sub,  palette=[\"m\", \"g\", \"b\"], x_jitter=0.02)\n",
    "plt.xlabel('Score Rater')\n",
    "plt.ylabel('Predicted by model')\n",
    "plt.title(\"Dystonia leg - Amplidute\")  \n",
    "plt.ylim(-0.1,1.1)\n",
    "plt.xlim(-0.1,1.1) \n",
    "g._legend.set_title('Rater')"
   ]
  },
  {
   "cell_type": "markdown",
   "metadata": {},
   "source": [
    "# Prediction from continous to discret"
   ]
  },
  {
   "cell_type": "code",
   "execution_count": 13,
   "metadata": {
    "scrolled": true
   },
   "outputs": [
    {
     "name": "stderr",
     "output_type": "stream",
     "text": [
      "<ipython-input-13-2a4b8d47e271>:2: SettingWithCopyWarning: \n",
      "A value is trying to be set on a copy of a slice from a DataFrame.\n",
      "Try using .loc[row_indexer,col_indexer] = value instead\n",
      "\n",
      "See the caveats in the documentation: https://pandas.pydata.org/pandas-docs/stable/user_guide/indexing.html#returning-a-view-versus-a-copy\n",
      "  df_sub['pred_y_dis'] = pred_y_dis.values\n",
      "<ipython-input-13-2a4b8d47e271>:3: SettingWithCopyWarning: \n",
      "A value is trying to be set on a copy of a slice from a DataFrame.\n",
      "Try using .loc[row_indexer,col_indexer] = value instead\n",
      "\n",
      "See the caveats in the documentation: https://pandas.pydata.org/pandas-docs/stable/user_guide/indexing.html#returning-a-view-versus-a-copy\n",
      "  df_sub['pred_y_dis']=df_sub['pred_y_dis'].astype('str')\n",
      "<ipython-input-13-2a4b8d47e271>:4: SettingWithCopyWarning: \n",
      "A value is trying to be set on a copy of a slice from a DataFrame.\n",
      "Try using .loc[row_indexer,col_indexer] = value instead\n",
      "\n",
      "See the caveats in the documentation: https://pandas.pydata.org/pandas-docs/stable/user_guide/indexing.html#returning-a-view-versus-a-copy\n",
      "  df_sub['y'] = df_sub['y'].astype('str')\n"
     ]
    }
   ],
   "source": [
    "pred_y_dis=pd.to_numeric(pd.cut(df_sub['pred_y'], bins=[0.0,0.2,0.4,0.6,0.8,1.0], labels=['0', '0.25','0.5','0.75','1'],include_lowest =True))\n",
    "df_sub['pred_y_dis'] = pred_y_dis.values\n",
    "df_sub['pred_y_dis']=df_sub['pred_y_dis'].astype('str')\n",
    "df_sub['y'] = df_sub['y'].astype('str')\n"
   ]
  },
  {
   "cell_type": "code",
   "execution_count": 14,
   "metadata": {},
   "outputs": [
    {
     "name": "stdout",
     "output_type": "stream",
     "text": [
      "[[ 1  4  0  0  0]\n",
      " [ 5 14  3  1  0]\n",
      " [ 0  7 17 19  0]\n",
      " [ 0  1 13 25  4]\n",
      " [ 0  0  0  8  2]]\n"
     ]
    }
   ],
   "source": [
    "cf_matrix=confusion_matrix(df_sub['y'],df_sub['pred_y_dis'])\n",
    "print(cf_matrix)"
   ]
  },
  {
   "cell_type": "code",
   "execution_count": 15,
   "metadata": {},
   "outputs": [
    {
     "data": {
      "text/plain": [
       "[Text(0.5, 24.0, 'Score Rater 1'), Text(24.0, 0.5, 'Predicted by model')]"
      ]
     },
     "execution_count": 15,
     "metadata": {},
     "output_type": "execute_result"
    },
    {
     "data": {
      "image/png": "[encoded data removed]",
      "text/plain": [
       "<Figure size 360x360 with 2 Axes>"
      ]
     },
     "metadata": {
      "needs_background": "light"
     },
     "output_type": "display_data"
    }
   ],
   "source": [
    "g=sns.heatmap(cf_matrix, annot=True, cmap='OrRd')\n",
    "plt.title(\"Dystonia leg - Amplitude\") \n",
    "plt.gca().invert_yaxis()\n",
    "labels=[\"0\", \"0.25\",\"0.5\",\"0.75\",\"1\"]\n",
    "g.set_xticklabels(labels)\n",
    "g.set_yticklabels(labels)\n",
    "g.set(xlabel='Score Rater 1', ylabel='Predicted by model')"
   ]
  },
  {
   "cell_type": "markdown",
   "metadata": {},
   "source": [
    "### Subselection Dystonia arm amplitude - Rater 1"
   ]
  },
  {
   "cell_type": "code",
   "execution_count": 16,
   "metadata": {},
   "outputs": [],
   "source": [
    "scores_select = ['D_LAP_R_tA_pscore, D_RAP_R_tA_pscore'] #select here leg of arm\n",
    "scorer_select = [1] #set here op scorer if you want to select one\n",
    "df_sub = df[df.scores.isin(scores_select) & df.scorer.isin(scorer_select)]"
   ]
  },
  {
   "cell_type": "code",
   "execution_count": 17,
   "metadata": {},
   "outputs": [
    {
     "data": {
      "text/plain": [
       "0.2064885496183205"
      ]
     },
     "execution_count": 17,
     "metadata": {},
     "output_type": "execute_result"
    }
   ],
   "source": [
    "# Mean Absolute Error (MAE)\n",
    "df_sub.apply(lambda x: abs(x['y'] - x['pred_y']) , axis=1).mean()"
   ]
  },
  {
   "cell_type": "code",
   "execution_count": 18,
   "metadata": {},
   "outputs": [
    {
     "data": {
      "text/plain": [
       "0.1496016436773244"
      ]
     },
     "execution_count": 18,
     "metadata": {},
     "output_type": "execute_result"
    }
   ],
   "source": [
    "# Standard deviation MAE\n",
    "df_sub.apply(lambda x: abs(x['y'] - x['pred_y']) , axis=1).std()"
   ]
  },
  {
   "cell_type": "code",
   "execution_count": 19,
   "metadata": {},
   "outputs": [
    {
     "data": {
      "text/plain": [
       "0.48789754017769976"
      ]
     },
     "execution_count": 19,
     "metadata": {},
     "output_type": "execute_result"
    }
   ],
   "source": [
    "# Correlation y and y-predict\n",
    "df_sub['y'].corr(df_sub['pred_y'])"
   ]
  },
  {
   "cell_type": "code",
   "execution_count": 20,
   "metadata": {},
   "outputs": [
    {
     "name": "stderr",
     "output_type": "stream",
     "text": [
      "<ipython-input-20-2a4b8d47e271>:2: SettingWithCopyWarning: \n",
      "A value is trying to be set on a copy of a slice from a DataFrame.\n",
      "Try using .loc[row_indexer,col_indexer] = value instead\n",
      "\n",
      "See the caveats in the documentation: https://pandas.pydata.org/pandas-docs/stable/user_guide/indexing.html#returning-a-view-versus-a-copy\n",
      "  df_sub['pred_y_dis'] = pred_y_dis.values\n",
      "<ipython-input-20-2a4b8d47e271>:3: SettingWithCopyWarning: \n",
      "A value is trying to be set on a copy of a slice from a DataFrame.\n",
      "Try using .loc[row_indexer,col_indexer] = value instead\n",
      "\n",
      "See the caveats in the documentation: https://pandas.pydata.org/pandas-docs/stable/user_guide/indexing.html#returning-a-view-versus-a-copy\n",
      "  df_sub['pred_y_dis']=df_sub['pred_y_dis'].astype('str')\n",
      "<ipython-input-20-2a4b8d47e271>:4: SettingWithCopyWarning: \n",
      "A value is trying to be set on a copy of a slice from a DataFrame.\n",
      "Try using .loc[row_indexer,col_indexer] = value instead\n",
      "\n",
      "See the caveats in the documentation: https://pandas.pydata.org/pandas-docs/stable/user_guide/indexing.html#returning-a-view-versus-a-copy\n",
      "  df_sub['y'] = df_sub['y'].astype('str')\n"
     ]
    }
   ],
   "source": [
    "pred_y_dis=pd.to_numeric(pd.cut(df_sub['pred_y'], bins=[0.0,0.2,0.4,0.6,0.8,1.0], labels=['0', '0.25','0.5','0.75','1'],include_lowest =True))\n",
    "df_sub['pred_y_dis'] = pred_y_dis.values\n",
    "df_sub['pred_y_dis']=df_sub['pred_y_dis'].astype('str')\n",
    "df_sub['y'] = df_sub['y'].astype('str')"
   ]
  },
  {
   "cell_type": "code",
   "execution_count": 21,
   "metadata": {},
   "outputs": [
    {
     "name": "stdout",
     "output_type": "stream",
     "text": [
      "[[ 1  6  6  0  0]\n",
      " [ 0  1  4  1  0]\n",
      " [ 3  7 20 20  2]\n",
      " [ 0  3 12 18  1]\n",
      " [ 0  1  6 13  6]]\n"
     ]
    }
   ],
   "source": [
    "cf_matrix=confusion_matrix(df_sub['y'],df_sub['pred_y_dis'])\n",
    "print(cf_matrix)"
   ]
  },
  {
   "cell_type": "code",
   "execution_count": 22,
   "metadata": {},
   "outputs": [
    {
     "data": {
      "text/plain": [
       "[Text(0.5, 24.0, 'Score Rater 1'), Text(24.0, 0.5, 'Predicted by model')]"
      ]
     },
     "execution_count": 22,
     "metadata": {},
     "output_type": "execute_result"
    },
    {
     "data": {
      "image/png": "[encoded data removed]",
      "text/plain": [
       "<Figure size 360x360 with 2 Axes>"
      ]
     },
     "metadata": {
      "needs_background": "light"
     },
     "output_type": "display_data"
    }
   ],
   "source": [
    "g=sns.heatmap(cf_matrix, annot=True, cmap='OrRd')\n",
    "plt.title(\"Dystonia arm - Amplitude\") \n",
    "plt.gca().invert_yaxis()\n",
    "labels=[\"0\", \"0.25\",\"0.5\",\"0.75\",\"1\"]\n",
    "g.set_xticklabels(labels)\n",
    "g.set_yticklabels(labels)\n",
    "g.set(xlabel='Score Rater 1', ylabel='Predicted by model')"
   ]
  },
  {
   "cell_type": "markdown",
   "metadata": {},
   "source": [
    "## Subselection Dystonia leg amplitude - Rater 2"
   ]
  },
  {
   "cell_type": "code",
   "execution_count": 23,
   "metadata": {},
   "outputs": [],
   "source": [
    "scores_select = ['D_LLP_R_tA_pscore, D_RLP_R_tA_pscore'] #select here leg of arm\n",
    "scorer_select = [2] #set here op scorer if you want to select one\n",
    "df_sub = df[df.scores.isin(scores_select) & df.scorer.isin(scorer_select)]"
   ]
  },
  {
   "cell_type": "code",
   "execution_count": 24,
   "metadata": {},
   "outputs": [
    {
     "data": {
      "text/plain": [
       "0.18984375"
      ]
     },
     "execution_count": 24,
     "metadata": {},
     "output_type": "execute_result"
    }
   ],
   "source": [
    "# Mean Absolute Error (MAE)\n",
    "df_sub.apply(lambda x: abs(x['y'] - x['pred_y']) , axis=1).mean()"
   ]
  },
  {
   "cell_type": "code",
   "execution_count": 25,
   "metadata": {},
   "outputs": [
    {
     "data": {
      "text/plain": [
       "0.16766892993572025"
      ]
     },
     "execution_count": 25,
     "metadata": {},
     "output_type": "execute_result"
    }
   ],
   "source": [
    "# Standard deviation MAE\n",
    "df_sub.apply(lambda x: abs(x['y'] - x['pred_y']) , axis=1).std()"
   ]
  },
  {
   "cell_type": "code",
   "execution_count": 26,
   "metadata": {},
   "outputs": [
    {
     "data": {
      "text/plain": [
       "0.2959858738044029"
      ]
     },
     "execution_count": 26,
     "metadata": {},
     "output_type": "execute_result"
    }
   ],
   "source": [
    "# Correlation y and y-predict\n",
    "df_sub['y'].corr(df_sub['pred_y'])"
   ]
  },
  {
   "cell_type": "code",
   "execution_count": 27,
   "metadata": {},
   "outputs": [
    {
     "name": "stdout",
     "output_type": "stream",
     "text": [
      "[[ 0  1  2  1  0]\n",
      " [ 0  0  1  4  0]\n",
      " [ 1  5 15  8  1]\n",
      " [ 0  2  7 19 10]\n",
      " [ 1  0  4 12  2]]\n"
     ]
    },
    {
     "name": "stderr",
     "output_type": "stream",
     "text": [
      "<ipython-input-27-6ffc9be39d21>:2: SettingWithCopyWarning: \n",
      "A value is trying to be set on a copy of a slice from a DataFrame.\n",
      "Try using .loc[row_indexer,col_indexer] = value instead\n",
      "\n",
      "See the caveats in the documentation: https://pandas.pydata.org/pandas-docs/stable/user_guide/indexing.html#returning-a-view-versus-a-copy\n",
      "  df_sub['pred_y_dis'] = pred_y_dis.values\n",
      "<ipython-input-27-6ffc9be39d21>:3: SettingWithCopyWarning: \n",
      "A value is trying to be set on a copy of a slice from a DataFrame.\n",
      "Try using .loc[row_indexer,col_indexer] = value instead\n",
      "\n",
      "See the caveats in the documentation: https://pandas.pydata.org/pandas-docs/stable/user_guide/indexing.html#returning-a-view-versus-a-copy\n",
      "  df_sub['pred_y_dis']=df_sub['pred_y_dis'].astype('str')\n",
      "<ipython-input-27-6ffc9be39d21>:4: SettingWithCopyWarning: \n",
      "A value is trying to be set on a copy of a slice from a DataFrame.\n",
      "Try using .loc[row_indexer,col_indexer] = value instead\n",
      "\n",
      "See the caveats in the documentation: https://pandas.pydata.org/pandas-docs/stable/user_guide/indexing.html#returning-a-view-versus-a-copy\n",
      "  df_sub['y'] = df_sub['y'].astype('str')\n"
     ]
    },
    {
     "data": {
      "text/plain": [
       "[Text(0.5, 24.0, 'Score Rater 2'), Text(24.0, 0.5, 'Predicted by model')]"
      ]
     },
     "execution_count": 27,
     "metadata": {},
     "output_type": "execute_result"
    },
    {
     "data": {
      "image/png": "[encoded data removed]",
      "text/plain": [
       "<Figure size 360x360 with 2 Axes>"
      ]
     },
     "metadata": {
      "needs_background": "light"
     },
     "output_type": "display_data"
    }
   ],
   "source": [
    "pred_y_dis=pd.to_numeric(pd.cut(df_sub['pred_y'], bins=[0.0,0.2,0.4,0.6,0.8,1.0], labels=['0', '0.25','0.5','0.75','1'],include_lowest =True))\n",
    "df_sub['pred_y_dis'] = pred_y_dis.values\n",
    "df_sub['pred_y_dis']=df_sub['pred_y_dis'].astype('str')\n",
    "df_sub['y'] = df_sub['y'].astype('str')\n",
    "cf_matrix=confusion_matrix(df_sub['y'],df_sub['pred_y_dis'])\n",
    "print(cf_matrix)\n",
    "g=sns.heatmap(cf_matrix, annot=True, cmap='OrRd')\n",
    "plt.title(\"Dystonia leg - Amplitude\") \n",
    "plt.gca().invert_yaxis()\n",
    "labels=[\"0\", \"0.25\",\"0.5\",\"0.75\",\"1\"]\n",
    "g.set_xticklabels(labels)\n",
    "g.set_yticklabels(labels)\n",
    "g.set(xlabel='Score Rater 2', ylabel='Predicted by model')"
   ]
  },
  {
   "cell_type": "markdown",
   "metadata": {},
   "source": [
    "## Subselection Dystonia arm amplitude - Rater 2"
   ]
  },
  {
   "cell_type": "code",
   "execution_count": 28,
   "metadata": {},
   "outputs": [],
   "source": [
    "scores_select = ['D_LAP_R_tA_pscore, D_RAP_R_tA_pscore'] #select here leg of arm\n",
    "scorer_select = [2] #set here op scorer if you want to select one\n",
    "df_sub = df[df.scores.isin(scores_select) & df.scorer.isin(scorer_select)]"
   ]
  },
  {
   "cell_type": "code",
   "execution_count": 29,
   "metadata": {},
   "outputs": [
    {
     "data": {
      "text/plain": [
       "0.2913265306122449"
      ]
     },
     "execution_count": 29,
     "metadata": {},
     "output_type": "execute_result"
    }
   ],
   "source": [
    "# Mean Absolute Error (MAE)\n",
    "df_sub.apply(lambda x: abs(x['y'] - x['pred_y']) , axis=1).mean()"
   ]
  },
  {
   "cell_type": "code",
   "execution_count": 30,
   "metadata": {},
   "outputs": [
    {
     "data": {
      "text/plain": [
       "0.19137666080057794"
      ]
     },
     "execution_count": 30,
     "metadata": {},
     "output_type": "execute_result"
    }
   ],
   "source": [
    "# Standard deviation MAE\n",
    "df_sub.apply(lambda x: abs(x['y'] - x['pred_y']) , axis=1).std()"
   ]
  },
  {
   "cell_type": "code",
   "execution_count": 31,
   "metadata": {},
   "outputs": [
    {
     "data": {
      "text/plain": [
       "0.37476946229820024"
      ]
     },
     "execution_count": 31,
     "metadata": {},
     "output_type": "execute_result"
    }
   ],
   "source": [
    "# Correlation y and y-predict\n",
    "df_sub['y'].corr(df_sub['pred_y'])"
   ]
  },
  {
   "cell_type": "code",
   "execution_count": 32,
   "metadata": {},
   "outputs": [
    {
     "name": "stdout",
     "output_type": "stream",
     "text": [
      "[[ 2  3  7  6  0]\n",
      " [ 1  2  5  4  0]\n",
      " [ 5  2  8  3  0]\n",
      " [ 0  6  6  7  3]\n",
      " [ 0  3  7 10  8]]\n"
     ]
    },
    {
     "name": "stderr",
     "output_type": "stream",
     "text": [
      "<ipython-input-32-42a0f24812be>:2: SettingWithCopyWarning: \n",
      "A value is trying to be set on a copy of a slice from a DataFrame.\n",
      "Try using .loc[row_indexer,col_indexer] = value instead\n",
      "\n",
      "See the caveats in the documentation: https://pandas.pydata.org/pandas-docs/stable/user_guide/indexing.html#returning-a-view-versus-a-copy\n",
      "  df_sub['pred_y_dis'] = pred_y_dis.values\n",
      "<ipython-input-32-42a0f24812be>:3: SettingWithCopyWarning: \n",
      "A value is trying to be set on a copy of a slice from a DataFrame.\n",
      "Try using .loc[row_indexer,col_indexer] = value instead\n",
      "\n",
      "See the caveats in the documentation: https://pandas.pydata.org/pandas-docs/stable/user_guide/indexing.html#returning-a-view-versus-a-copy\n",
      "  df_sub['pred_y_dis']=df_sub['pred_y_dis'].astype('str')\n",
      "<ipython-input-32-42a0f24812be>:4: SettingWithCopyWarning: \n",
      "A value is trying to be set on a copy of a slice from a DataFrame.\n",
      "Try using .loc[row_indexer,col_indexer] = value instead\n",
      "\n",
      "See the caveats in the documentation: https://pandas.pydata.org/pandas-docs/stable/user_guide/indexing.html#returning-a-view-versus-a-copy\n",
      "  df_sub['y'] = df_sub['y'].astype('str')\n"
     ]
    },
    {
     "data": {
      "text/plain": [
       "[Text(0.5, 24.0, 'Score Rater 2'), Text(24.0, 0.5, 'Predicted by model')]"
      ]
     },
     "execution_count": 32,
     "metadata": {},
     "output_type": "execute_result"
    },
    {
     "data": {
      "image/png": "[encoded data removed]",
      "text/plain": [
       "<Figure size 360x360 with 2 Axes>"
      ]
     },
     "metadata": {
      "needs_background": "light"
     },
     "output_type": "display_data"
    }
   ],
   "source": [
    "pred_y_dis=pd.to_numeric(pd.cut(df_sub['pred_y'], bins=[0.0,0.2,0.4,0.6,0.8,1.0], labels=['0', '0.25','0.5','0.75','1'],include_lowest =True))\n",
    "df_sub['pred_y_dis'] = pred_y_dis.values\n",
    "df_sub['pred_y_dis']=df_sub['pred_y_dis'].astype('str')\n",
    "df_sub['y'] = df_sub['y'].astype('str')\n",
    "cf_matrix=confusion_matrix(df_sub['y'],df_sub['pred_y_dis'])\n",
    "print(cf_matrix)\n",
    "g=sns.heatmap(cf_matrix, annot=True, cmap='OrRd')\n",
    "plt.title(\"Dystonia arm - Amplitude\") \n",
    "plt.gca().invert_yaxis()\n",
    "labels=[\"0\", \"0.25\",\"0.5\",\"0.75\",\"1\"]\n",
    "g.set_xticklabels(labels)\n",
    "g.set_yticklabels(labels)\n",
    "g.set(xlabel='Score Rater 2', ylabel='Predicted by model')"
   ]
  },
  {
   "cell_type": "markdown",
   "metadata": {},
   "source": [
    "## Subselection Dystonia leg amplitude - Rater 3"
   ]
  },
  {
   "cell_type": "code",
   "execution_count": 33,
   "metadata": {},
   "outputs": [],
   "source": [
    "scores_select = ['D_LLP_R_tA_pscore, D_RLP_R_tA_pscore'] #select here leg of arm\n",
    "scorer_select = [3] #set here op scorer if you want to select one\n",
    "df_sub = df[df.scores.isin(scores_select) & df.scorer.isin(scorer_select)]"
   ]
  },
  {
   "cell_type": "code",
   "execution_count": 34,
   "metadata": {},
   "outputs": [
    {
     "data": {
      "text/plain": [
       "0.2505434782608696"
      ]
     },
     "execution_count": 34,
     "metadata": {},
     "output_type": "execute_result"
    }
   ],
   "source": [
    "# Mean Absolute Error (MAE)\n",
    "df_sub.apply(lambda x: abs(x['y'] - x['pred_y']) , axis=1).mean()"
   ]
  },
  {
   "cell_type": "code",
   "execution_count": 35,
   "metadata": {},
   "outputs": [
    {
     "data": {
      "text/plain": [
       "0.19414429962756732"
      ]
     },
     "execution_count": 35,
     "metadata": {},
     "output_type": "execute_result"
    }
   ],
   "source": [
    "# Standard deviation MAE\n",
    "df_sub.apply(lambda x: abs(x['y'] - x['pred_y']) , axis=1).std()"
   ]
  },
  {
   "cell_type": "code",
   "execution_count": 36,
   "metadata": {},
   "outputs": [
    {
     "data": {
      "text/plain": [
       "0.07396904485810438"
      ]
     },
     "execution_count": 36,
     "metadata": {},
     "output_type": "execute_result"
    }
   ],
   "source": [
    "# Correlation y and y-predict\n",
    "df_sub['y'].corr(df_sub['pred_y'])"
   ]
  },
  {
   "cell_type": "code",
   "execution_count": 37,
   "metadata": {},
   "outputs": [
    {
     "name": "stdout",
     "output_type": "stream",
     "text": [
      "[[ 1  6  4  3  0]\n",
      " [ 1  6 12  2  0]\n",
      " [ 2 11 16  6  0]\n",
      " [ 1  3  5  4  0]\n",
      " [ 0  4  2  3  0]]\n"
     ]
    },
    {
     "name": "stderr",
     "output_type": "stream",
     "text": [
      "<ipython-input-37-086e70f2bfea>:2: SettingWithCopyWarning: \n",
      "A value is trying to be set on a copy of a slice from a DataFrame.\n",
      "Try using .loc[row_indexer,col_indexer] = value instead\n",
      "\n",
      "See the caveats in the documentation: https://pandas.pydata.org/pandas-docs/stable/user_guide/indexing.html#returning-a-view-versus-a-copy\n",
      "  df_sub['pred_y_dis'] = pred_y_dis.values\n",
      "<ipython-input-37-086e70f2bfea>:3: SettingWithCopyWarning: \n",
      "A value is trying to be set on a copy of a slice from a DataFrame.\n",
      "Try using .loc[row_indexer,col_indexer] = value instead\n",
      "\n",
      "See the caveats in the documentation: https://pandas.pydata.org/pandas-docs/stable/user_guide/indexing.html#returning-a-view-versus-a-copy\n",
      "  df_sub['pred_y_dis']=df_sub['pred_y_dis'].astype('str')\n",
      "<ipython-input-37-086e70f2bfea>:4: SettingWithCopyWarning: \n",
      "A value is trying to be set on a copy of a slice from a DataFrame.\n",
      "Try using .loc[row_indexer,col_indexer] = value instead\n",
      "\n",
      "See the caveats in the documentation: https://pandas.pydata.org/pandas-docs/stable/user_guide/indexing.html#returning-a-view-versus-a-copy\n",
      "  df_sub['y'] = df_sub['y'].astype('str')\n"
     ]
    },
    {
     "data": {
      "text/plain": [
       "[Text(0.5, 24.0, 'Score Rater 3'), Text(24.0, 0.5, 'Predicted by model')]"
      ]
     },
     "execution_count": 37,
     "metadata": {},
     "output_type": "execute_result"
    },
    {
     "data": {
      "image/png": "[encoded data removed]",
      "text/plain": [
       "<Figure size 360x360 with 2 Axes>"
      ]
     },
     "metadata": {
      "needs_background": "light"
     },
     "output_type": "display_data"
    }
   ],
   "source": [
    "pred_y_dis=pd.to_numeric(pd.cut(df_sub['pred_y'], bins=[0.0,0.2,0.4,0.6,0.8,1.0], labels=['0', '0.25','0.5','0.75','1'],include_lowest =True))\n",
    "df_sub['pred_y_dis'] = pred_y_dis.values\n",
    "df_sub['pred_y_dis']=df_sub['pred_y_dis'].astype('str')\n",
    "df_sub['y'] = df_sub['y'].astype('str')\n",
    "cf_matrix=confusion_matrix(df_sub['y'],df_sub['pred_y_dis'])\n",
    "print(cf_matrix)\n",
    "g=sns.heatmap(cf_matrix, annot=True, cmap='OrRd')\n",
    "plt.title(\"Dystonia leg - Amplitude\") \n",
    "plt.gca().invert_yaxis()\n",
    "labels=[\"0\", \"0.25\",\"0.5\",\"0.75\",\"1\"]\n",
    "g.set_xticklabels(labels)\n",
    "g.set_yticklabels(labels)\n",
    "g.set(xlabel='Score Rater 3', ylabel='Predicted by model')"
   ]
  },
  {
   "cell_type": "markdown",
   "metadata": {},
   "source": [
    "## Subselection Dystonia arm amplitude - Rater 3"
   ]
  },
  {
   "cell_type": "code",
   "execution_count": 38,
   "metadata": {},
   "outputs": [],
   "source": [
    "scores_select = ['D_LAP_R_tA_pscore, D_RAP_R_tA_pscore'] #select here leg of arm\n",
    "scorer_select = [3] #set here op scorer if you want to select one\n",
    "df_sub = df[df.scores.isin(scores_select) & df.scorer.isin(scorer_select)]"
   ]
  },
  {
   "cell_type": "code",
   "execution_count": 39,
   "metadata": {},
   "outputs": [
    {
     "data": {
      "text/plain": [
       "0.2455555555555555"
      ]
     },
     "execution_count": 39,
     "metadata": {},
     "output_type": "execute_result"
    }
   ],
   "source": [
    "# Mean Absolute Error (MAE)\n",
    "df_sub.apply(lambda x: abs(x['y'] - x['pred_y']) , axis=1).mean()"
   ]
  },
  {
   "cell_type": "code",
   "execution_count": 40,
   "metadata": {},
   "outputs": [
    {
     "data": {
      "text/plain": [
       "0.21258104131387712"
      ]
     },
     "execution_count": 40,
     "metadata": {},
     "output_type": "execute_result"
    }
   ],
   "source": [
    "# Standard deviation MAE\n",
    "df_sub.apply(lambda x: abs(x['y'] - x['pred_y']) , axis=1).std()"
   ]
  },
  {
   "cell_type": "code",
   "execution_count": 41,
   "metadata": {},
   "outputs": [
    {
     "data": {
      "text/plain": [
       "0.38965131593026436"
      ]
     },
     "execution_count": 41,
     "metadata": {},
     "output_type": "execute_result"
    }
   ],
   "source": [
    "# Correlation y and y-predict\n",
    "df_sub['y'].corr(df_sub['pred_y'])"
   ]
  },
  {
   "cell_type": "code",
   "execution_count": 42,
   "metadata": {},
   "outputs": [
    {
     "name": "stdout",
     "output_type": "stream",
     "text": [
      "[[15  4  4  0  2]\n",
      " [ 5  4  4  4  0]\n",
      " [ 2  7 11  4  0]\n",
      " [ 0  0  6  6  0]\n",
      " [ 1  4  6  1  0]]\n"
     ]
    },
    {
     "name": "stderr",
     "output_type": "stream",
     "text": [
      "<ipython-input-42-d1fdc4110056>:2: SettingWithCopyWarning: \n",
      "A value is trying to be set on a copy of a slice from a DataFrame.\n",
      "Try using .loc[row_indexer,col_indexer] = value instead\n",
      "\n",
      "See the caveats in the documentation: https://pandas.pydata.org/pandas-docs/stable/user_guide/indexing.html#returning-a-view-versus-a-copy\n",
      "  df_sub['pred_y_dis'] = pred_y_dis.values\n",
      "<ipython-input-42-d1fdc4110056>:3: SettingWithCopyWarning: \n",
      "A value is trying to be set on a copy of a slice from a DataFrame.\n",
      "Try using .loc[row_indexer,col_indexer] = value instead\n",
      "\n",
      "See the caveats in the documentation: https://pandas.pydata.org/pandas-docs/stable/user_guide/indexing.html#returning-a-view-versus-a-copy\n",
      "  df_sub['pred_y_dis']=df_sub['pred_y_dis'].astype('str')\n",
      "<ipython-input-42-d1fdc4110056>:4: SettingWithCopyWarning: \n",
      "A value is trying to be set on a copy of a slice from a DataFrame.\n",
      "Try using .loc[row_indexer,col_indexer] = value instead\n",
      "\n",
      "See the caveats in the documentation: https://pandas.pydata.org/pandas-docs/stable/user_guide/indexing.html#returning-a-view-versus-a-copy\n",
      "  df_sub['y'] = df_sub['y'].astype('str')\n"
     ]
    },
    {
     "data": {
      "text/plain": [
       "[Text(0.5, 24.0, 'Score Rater 3'), Text(24.0, 0.5, 'Predicted by model')]"
      ]
     },
     "execution_count": 42,
     "metadata": {},
     "output_type": "execute_result"
    },
    {
     "data": {
      "image/png": "[encoded data removed]",
      "text/plain": [
       "<Figure size 360x360 with 2 Axes>"
      ]
     },
     "metadata": {
      "needs_background": "light"
     },
     "output_type": "display_data"
    }
   ],
   "source": [
    "pred_y_dis=pd.to_numeric(pd.cut(df_sub['pred_y'], bins=[0.0,0.2,0.4,0.6,0.8,1.0], labels=['0', '0.25','0.5','0.75','1'],include_lowest =True))\n",
    "df_sub['pred_y_dis'] = pred_y_dis.values\n",
    "df_sub['pred_y_dis']=df_sub['pred_y_dis'].astype('str')\n",
    "df_sub['y'] = df_sub['y'].astype('str')\n",
    "cf_matrix=confusion_matrix(df_sub['y'],df_sub['pred_y_dis'])\n",
    "print(cf_matrix)\n",
    "g=sns.heatmap(cf_matrix, annot=True, cmap='OrRd')\n",
    "plt.title(\"Dystonia arm - Amplitude\") \n",
    "plt.gca().invert_yaxis()\n",
    "labels=[\"0\", \"0.25\",\"0.5\",\"0.75\",\"1\"]\n",
    "g.set_xticklabels(labels)\n",
    "g.set_yticklabels(labels)\n",
    "g.set(xlabel='Score Rater 3', ylabel='Predicted by model')"
   ]
  },
  {
   "cell_type": "markdown",
   "metadata": {},
   "source": [
    "## Subselection Dystonia leg amplitude - all Raters"
   ]
  },
  {
   "cell_type": "code",
   "execution_count": 43,
   "metadata": {},
   "outputs": [],
   "source": [
    "scores_select = ['D_LLP_R_tA_pscore, D_RLP_R_tA_pscore'] #select here leg of arm\n",
    "scorer_select = [1,2,3] #set here op scorer if you want to select one\n",
    "df_sub = df[df.scores.isin(scores_select) & df.scorer.isin(scorer_select)]"
   ]
  },
  {
   "cell_type": "code",
   "execution_count": 44,
   "metadata": {},
   "outputs": [
    {
     "data": {
      "text/plain": [
       "0.1881410256410256"
      ]
     },
     "execution_count": 44,
     "metadata": {},
     "output_type": "execute_result"
    }
   ],
   "source": [
    "# Mean Absolute Error (MAE)\n",
    "df_sub.apply(lambda x: abs(x['y'] - x['pred_y']) , axis=1).mean()"
   ]
  },
  {
   "cell_type": "code",
   "execution_count": 45,
   "metadata": {},
   "outputs": [
    {
     "data": {
      "text/plain": [
       "0.16105931278356575"
      ]
     },
     "execution_count": 45,
     "metadata": {},
     "output_type": "execute_result"
    }
   ],
   "source": [
    "# Standard deviation MAE\n",
    "df_sub.apply(lambda x: abs(x['y'] - x['pred_y']) , axis=1).std()"
   ]
  },
  {
   "cell_type": "code",
   "execution_count": 46,
   "metadata": {},
   "outputs": [
    {
     "data": {
      "text/plain": [
       "0.46504467959164925"
      ]
     },
     "execution_count": 46,
     "metadata": {},
     "output_type": "execute_result"
    }
   ],
   "source": [
    "# Correlation y and y-predict\n",
    "df_sub['y'].corr(df_sub['pred_y'])"
   ]
  },
  {
   "cell_type": "code",
   "execution_count": 47,
   "metadata": {},
   "outputs": [
    {
     "name": "stdout",
     "output_type": "stream",
     "text": [
      "[[ 2 11  6  4  0]\n",
      " [ 6 20 16  7  0]\n",
      " [ 3 23 48 33  1]\n",
      " [ 1  6 25 48 14]\n",
      " [ 1  4  6 23  4]]\n"
     ]
    },
    {
     "name": "stderr",
     "output_type": "stream",
     "text": [
      "<ipython-input-47-6c3f2e3e8530>:2: SettingWithCopyWarning: \n",
      "A value is trying to be set on a copy of a slice from a DataFrame.\n",
      "Try using .loc[row_indexer,col_indexer] = value instead\n",
      "\n",
      "See the caveats in the documentation: https://pandas.pydata.org/pandas-docs/stable/user_guide/indexing.html#returning-a-view-versus-a-copy\n",
      "  df_sub['pred_y_dis'] = pred_y_dis.values\n",
      "<ipython-input-47-6c3f2e3e8530>:3: SettingWithCopyWarning: \n",
      "A value is trying to be set on a copy of a slice from a DataFrame.\n",
      "Try using .loc[row_indexer,col_indexer] = value instead\n",
      "\n",
      "See the caveats in the documentation: https://pandas.pydata.org/pandas-docs/stable/user_guide/indexing.html#returning-a-view-versus-a-copy\n",
      "  df_sub['pred_y_dis']=df_sub['pred_y_dis'].astype('str')\n",
      "<ipython-input-47-6c3f2e3e8530>:4: SettingWithCopyWarning: \n",
      "A value is trying to be set on a copy of a slice from a DataFrame.\n",
      "Try using .loc[row_indexer,col_indexer] = value instead\n",
      "\n",
      "See the caveats in the documentation: https://pandas.pydata.org/pandas-docs/stable/user_guide/indexing.html#returning-a-view-versus-a-copy\n",
      "  df_sub['y'] = df_sub['y'].astype('str')\n"
     ]
    },
    {
     "data": {
      "text/plain": [
       "[Text(0.5, 24.0, 'Score all Rater'), Text(24.0, 0.5, 'Predicted by model')]"
      ]
     },
     "execution_count": 47,
     "metadata": {},
     "output_type": "execute_result"
    },
    {
     "data": {
      "image/png": "[encoded data removed]",
      "text/plain": [
       "<Figure size 360x360 with 2 Axes>"
      ]
     },
     "metadata": {
      "needs_background": "light"
     },
     "output_type": "display_data"
    }
   ],
   "source": [
    "pred_y_dis=pd.to_numeric(pd.cut(df_sub['pred_y'], bins=[0.0,0.2,0.4,0.6,0.8,1.0], labels=['0', '0.25','0.5','0.75','1'],include_lowest =True))\n",
    "df_sub['pred_y_dis'] = pred_y_dis.values\n",
    "df_sub['pred_y_dis']=df_sub['pred_y_dis'].astype('str')\n",
    "df_sub['y'] = df_sub['y'].astype('str')\n",
    "cf_matrix=confusion_matrix(df_sub['y'],df_sub['pred_y_dis'])\n",
    "print(cf_matrix)\n",
    "g=sns.heatmap(cf_matrix, annot=True, cmap='OrRd')\n",
    "plt.title(\"Dystonia leg - Amplitude\") \n",
    "plt.gca().invert_yaxis()\n",
    "labels=[\"0\", \"0.25\",\"0.5\",\"0.75\",\"1\"]\n",
    "g.set_xticklabels(labels)\n",
    "g.set_yticklabels(labels)\n",
    "g.set(xlabel='Score all Rater', ylabel='Predicted by model')"
   ]
  },
  {
   "cell_type": "markdown",
   "metadata": {},
   "source": [
    "## Subselection Dystonia arm amplitude - Rater 3"
   ]
  },
  {
   "cell_type": "code",
   "execution_count": 48,
   "metadata": {},
   "outputs": [],
   "source": [
    "scores_select = ['D_LAP_R_tA_pscore, D_RAP_R_tA_pscore'] #select here leg of arm\n",
    "scorer_select = [1,2,3] #set here op scorer if you want to select one\n",
    "df_sub = df[df.scores.isin(scores_select) & df.scorer.isin(scorer_select)]"
   ]
  },
  {
   "cell_type": "code",
   "execution_count": 49,
   "metadata": {},
   "outputs": [
    {
     "data": {
      "text/plain": [
       "0.24357366771159875"
      ]
     },
     "execution_count": 49,
     "metadata": {},
     "output_type": "execute_result"
    }
   ],
   "source": [
    "# Mean Absolute Error (MAE)\n",
    "df_sub.apply(lambda x: abs(x['y'] - x['pred_y']) , axis=1).mean()"
   ]
  },
  {
   "cell_type": "code",
   "execution_count": 50,
   "metadata": {},
   "outputs": [
    {
     "data": {
      "text/plain": [
       "0.18503846293014214"
      ]
     },
     "execution_count": 50,
     "metadata": {},
     "output_type": "execute_result"
    }
   ],
   "source": [
    "# Standard deviation MAE\n",
    "df_sub.apply(lambda x: abs(x['y'] - x['pred_y']) , axis=1).std()"
   ]
  },
  {
   "cell_type": "code",
   "execution_count": 51,
   "metadata": {},
   "outputs": [
    {
     "data": {
      "text/plain": [
       "0.4596129160301478"
      ]
     },
     "execution_count": 51,
     "metadata": {},
     "output_type": "execute_result"
    }
   ],
   "source": [
    "# Correlation y and y-predict\n",
    "df_sub['y'].corr(df_sub['pred_y'])"
   ]
  },
  {
   "cell_type": "code",
   "execution_count": 52,
   "metadata": {},
   "outputs": [
    {
     "name": "stdout",
     "output_type": "stream",
     "text": [
      "[[18 13 17  6  2]\n",
      " [ 6  7 13  9  0]\n",
      " [10 16 39 27  2]\n",
      " [ 0  9 24 31  4]\n",
      " [ 1  8 19 24 14]]\n"
     ]
    },
    {
     "name": "stderr",
     "output_type": "stream",
     "text": [
      "<ipython-input-52-f7d3942e23d4>:2: SettingWithCopyWarning: \n",
      "A value is trying to be set on a copy of a slice from a DataFrame.\n",
      "Try using .loc[row_indexer,col_indexer] = value instead\n",
      "\n",
      "See the caveats in the documentation: https://pandas.pydata.org/pandas-docs/stable/user_guide/indexing.html#returning-a-view-versus-a-copy\n",
      "  df_sub['pred_y_dis'] = pred_y_dis.values\n",
      "<ipython-input-52-f7d3942e23d4>:3: SettingWithCopyWarning: \n",
      "A value is trying to be set on a copy of a slice from a DataFrame.\n",
      "Try using .loc[row_indexer,col_indexer] = value instead\n",
      "\n",
      "See the caveats in the documentation: https://pandas.pydata.org/pandas-docs/stable/user_guide/indexing.html#returning-a-view-versus-a-copy\n",
      "  df_sub['pred_y_dis']=df_sub['pred_y_dis'].astype('str')\n",
      "<ipython-input-52-f7d3942e23d4>:4: SettingWithCopyWarning: \n",
      "A value is trying to be set on a copy of a slice from a DataFrame.\n",
      "Try using .loc[row_indexer,col_indexer] = value instead\n",
      "\n",
      "See the caveats in the documentation: https://pandas.pydata.org/pandas-docs/stable/user_guide/indexing.html#returning-a-view-versus-a-copy\n",
      "  df_sub['y'] = df_sub['y'].astype('str')\n"
     ]
    },
    {
     "data": {
      "text/plain": [
       "[Text(0.5, 24.0, 'Score all Raters'), Text(24.0, 0.5, 'Predicted by model')]"
      ]
     },
     "execution_count": 52,
     "metadata": {},
     "output_type": "execute_result"
    },
    {
     "data": {
      "image/png": "[encoded data removed]",
      "text/plain": [
       "<Figure size 360x360 with 2 Axes>"
      ]
     },
     "metadata": {
      "needs_background": "light"
     },
     "output_type": "display_data"
    }
   ],
   "source": [
    "pred_y_dis=pd.to_numeric(pd.cut(df_sub['pred_y'], bins=[0.0,0.2,0.4,0.6,0.8,1.0], labels=['0', '0.25','0.5','0.75','1'],include_lowest =True))\n",
    "df_sub['pred_y_dis'] = pred_y_dis.values\n",
    "df_sub['pred_y_dis']=df_sub['pred_y_dis'].astype('str')\n",
    "df_sub['y'] = df_sub['y'].astype('str')\n",
    "cf_matrix=confusion_matrix(df_sub['y'],df_sub['pred_y_dis'])\n",
    "print(cf_matrix)\n",
    "g=sns.heatmap(cf_matrix, annot=True, cmap='OrRd')\n",
    "plt.title(\"Dystonia arm - Amplitude\") \n",
    "plt.gca().invert_yaxis()\n",
    "labels=[\"0\", \"0.25\",\"0.5\",\"0.75\",\"1\"]\n",
    "g.set_xticklabels(labels)\n",
    "g.set_yticklabels(labels)\n",
    "g.set(xlabel='Score all Raters', ylabel='Predicted by model')"
   ]
  },
  {
   "cell_type": "code",
   "execution_count": null,
   "metadata": {},
   "outputs": [],
   "source": []
  },
  {
   "cell_type": "code",
   "execution_count": null,
   "metadata": {},
   "outputs": [],
   "source": []
  },
  {
   "cell_type": "code",
   "execution_count": null,
   "metadata": {},
   "outputs": [],
   "source": []
  }
 ],
 "metadata": {
  "kernelspec": {
   "display_name": "Python 3",
   "language": "python",
   "name": "python3"
  },
  "language_info": {
   "codemirror_mode": {
    "name": "ipython",
    "version": 3
   },
   "file_extension": ".py",
   "mimetype": "text/x-python",
   "name": "python",
   "nbconvert_exporter": "python",
   "pygments_lexer": "ipython3",
   "version": "3.8.8"
  }
 },
 "nbformat": 4,
 "nbformat_minor": 2
}
